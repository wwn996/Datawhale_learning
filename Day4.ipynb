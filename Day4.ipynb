{
 "cells": [
  {
   "cell_type": "markdown",
   "metadata": {},
   "source": [
    "# Day4\n",
    "\n",
    "## 一. 条件判断语句\n",
    "\n",
    "Python条件语句是通过一条或多条语句的执行结果（True或者False）来决定执行的代码块。\n",
    "\n",
    "### 1. if 语句\n",
    "Python中if语句的一般形式如下所示：\n",
    "```\n",
    "if condition_1:\n",
    "    statement_block_1\n",
    "elif condition_2:\n",
    "    statement_block_2\n",
    "else:\n",
    "    statement_block_3\n",
    "```\n",
    " - 如果 \"condition_1\" 为 True 将执行 \"statement_block_1\" 块语句\n",
    " - 如果 \"condition_1\" 为False，将判断 \"condition_2\"\n",
    " - 如果\"condition_2\" 为 True 将执行 \"statement_block_2\" 块语句\n",
    " - 如果 \"condition_2\" 为False，将执行\"statement_block_3\"块语句\n",
    "\n",
    "Python 中用 elif 代替了 else if，所以if语句的关键字为：if – elif – else。\n",
    " \n",
    "**注意：**\n",
    " - 每个条件后面要使用冒号 :，表示接下来是满足条件后要执行的语句块。\n",
    " - 使用缩进来划分语句块，相同缩进数的语句在一起组成一个语句块。\n",
    " - 在Python中没有switch – case语句。"
   ]
  },
  {
   "cell_type": "code",
   "execution_count": 1,
   "metadata": {
    "scrolled": true
   },
   "outputs": [
    {
     "name": "stdout",
     "output_type": "stream",
     "text": [
      "It is too many!\n"
     ]
    }
   ],
   "source": [
    "a = 4\n",
    "if a == 1:\n",
    "    print(\"It is one\")\n",
    "elif a == 2:\n",
    "    print(\"It is two\")\n",
    "elif a == 3:\n",
    "    print(\"It is three\")\n",
    "else:\n",
    "    print(\"It is too many!\")"
   ]
  },
  {
   "cell_type": "markdown",
   "metadata": {},
   "source": [
    " - if 中常用的操作运算符:\n",
    "\n",
    "    <（小于）， <=（小于或等于）， >（大于）， >=（大于或等于）， ==（等于，比较对象是否相等）， !=（不等于）"
   ]
  },
  {
   "cell_type": "markdown",
   "metadata": {},
   "source": [
    "### 2. if嵌套\n",
    "在嵌套 if 语句中，可以把 if...elif...else 结构放在另外一个 if...elif...else 结构中。\n",
    "```\n",
    "if 表达式1:\n",
    "    语句\n",
    "    if 表达式2:\n",
    "        语句\n",
    "    elif 表达式3:\n",
    "        语句\n",
    "    else:\n",
    "        语句\n",
    "elif 表达式4:\n",
    "    语句\n",
    "else:\n",
    "    语句\n",
    "```"
   ]
  },
  {
   "cell_type": "code",
   "execution_count": 2,
   "metadata": {},
   "outputs": [
    {
     "name": "stdout",
     "output_type": "stream",
     "text": [
      "你输入的坐标在第二象限\n"
     ]
    }
   ],
   "source": [
    "x = 5\n",
    "y = -1\n",
    "if y >= 0:\n",
    "   if x >= 0:\n",
    "       print(\"你输入的坐标在第一象限\")\n",
    "   else:\n",
    "       print(\"你输入的坐标在第四象限\")\n",
    "else:\n",
    "   if x < 0:\n",
    "       print(\"你输入的坐标在第三象限\")\n",
    "   else:\n",
    "       print(\"你输入的坐标在第二象限\")"
   ]
  },
  {
   "cell_type": "markdown",
   "metadata": {},
   "source": [
    "##  二. 循环语句\n",
    "Python中的循环语句有 for 和 while。\n",
    "\n",
    "### 1. while 循环\n",
    "Python中while语句的一般形式：\n",
    "```\n",
    "while 判断条件：\n",
    "    语句\n",
    "```\n",
    " - 同样需要注意冒号和缩进。另外，在Python中没有do..while循环。"
   ]
  },
  {
   "cell_type": "code",
   "execution_count": 3,
   "metadata": {
    "scrolled": true
   },
   "outputs": [
    {
     "name": "stdout",
     "output_type": "stream",
     "text": [
      "1 到 100 之和为: 5050\n"
     ]
    }
   ],
   "source": [
    "n = 100\n",
    " \n",
    "sum = 0\n",
    "counter = 1\n",
    "while counter <= n:\n",
    "    sum = sum + counter\n",
    "    counter += 1\n",
    " \n",
    "print(\"1 到 %d 之和为: %d\" % (n,sum))"
   ]
  },
  {
   "cell_type": "markdown",
   "metadata": {},
   "source": [
    "#### 1.1 无限循环\n",
    "\n",
    "可以通过设置条件表达式永远不为 false 来实现无限循环。可以使用 CTRL+C 来退出当前的无限循环。\n",
    "\n",
    "注意：无限循环在服务器上客户端的实时请求非常有用\n",
    "\n",
    "var = 1\n",
    "while var == 1 :  # 表达式永远为 true\n",
    "   num = int(input(\"输入一个数字  :\"))\n",
    "   print (\"你输入的数字是: \", num)\n",
    " \n",
    "print (\"Good bye!\")"
   ]
  },
  {
   "cell_type": "code",
   "execution_count": null,
   "metadata": {},
   "outputs": [],
   "source": []
  },
  {
   "cell_type": "markdown",
   "metadata": {},
   "source": [
    "#### 1.2 while 循环使用 else 语句"
   ]
  },
  {
   "cell_type": "code",
   "execution_count": 2,
   "metadata": {},
   "outputs": [
    {
     "name": "stdout",
     "output_type": "stream",
     "text": [
      "0  小于 5\n",
      "1  小于 5\n",
      "2  小于 5\n",
      "3  小于 5\n",
      "4  小于 5\n",
      "5  大于或等于 5\n"
     ]
    }
   ],
   "source": [
    "count = 0\n",
    "while count < 5:\n",
    "   print (count, \" 小于 5\")\n",
    "   count = count + 1\n",
    "else:\n",
    "   print (count, \" 大于或等于 5\")"
   ]
  },
  {
   "cell_type": "markdown",
   "metadata": {},
   "source": [
    "#### 1.3 简单语句组\n",
    "类似if语句的语法，如果你的while循环体中只有一条语句，你可以将该语句与while写在同一行中"
   ]
  },
  {
   "cell_type": "markdown",
   "metadata": {},
   "source": [
    "### 2. for 语句\n",
    "python for循环可以遍历任何序列的项目，如一个列表或者一个字符串。\n",
    "for循环的一般格式如下：\n",
    "```\n",
    "for <variable> in <sequence>:\n",
    "    <statements>\n",
    "else:\n",
    "    <statements>\n",
    "```"
   ]
  },
  {
   "cell_type": "code",
   "execution_count": 3,
   "metadata": {},
   "outputs": [
    {
     "name": "stdout",
     "output_type": "stream",
     "text": [
      "Chinese\n",
      "Math\n",
      "Englist\n",
      "History\n"
     ]
    }
   ],
   "source": [
    "project = ['Chinese', 'Math', 'Englist', 'History']\n",
    "\n",
    "for p in project:\n",
    "    print(p)"
   ]
  },
  {
   "cell_type": "markdown",
   "metadata": {},
   "source": [
    "### 3. range()函数\n",
    "如果你需要遍历数字序列，可以使用内置range()函数。它会生成数列。\n",
    "\n",
    "你可以使用range指定区间的值；也可以使range以指定数字开始并指定不同的增量(甚至可以是负数，有时这也叫做'步长')；可以结合range()和len()函数以遍历一个序列的索引；还可以使用range()函数来创建一个列表"
   ]
  },
  {
   "cell_type": "code",
   "execution_count": 4,
   "metadata": {},
   "outputs": [
    {
     "name": "stdout",
     "output_type": "stream",
     "text": [
      "0\n",
      "1\n",
      "2\n",
      "3\n",
      "4\n"
     ]
    }
   ],
   "source": [
    "for i in range(5):\n",
    "    print(i)"
   ]
  },
  {
   "cell_type": "markdown",
   "metadata": {},
   "source": [
    "### 4. break和continue语句及循环中的else子句\n",
    " - break 语句可以跳出 for 和 while 的循环体。如果你从 for 或 while 循环中终止，任何对应的循环 else 块将不执行。\n",
    " - continue语句被用来告诉Python跳过当前循环块中的剩余语句，然后继续进行下一轮循环。\n",
    " - 循环语句可以有 else 子句，它在穷尽列表(以for循环)或条件变为 false (以while循环)导致循环终止时被执行,但循环被break终止时不执行。"
   ]
  },
  {
   "cell_type": "code",
   "execution_count": 5,
   "metadata": {},
   "outputs": [
    {
     "name": "stdout",
     "output_type": "stream",
     "text": [
      "Guess a number bewteen 1 and 10: 1\n",
      "Guess a number bewteen 1 and 10: 5\n"
     ]
    }
   ],
   "source": [
    "# break语句\n",
    "for i in range(10):\n",
    "    a = int(input('Guess a number bewteen 1 and 10: '))\n",
    "    if a == 5:\n",
    "        break\n",
    "        print('You are win!')\n",
    "    else:\n",
    "        continue"
   ]
  },
  {
   "cell_type": "markdown",
   "metadata": {},
   "source": [
    "### 5. pass\n",
    " - Python pass是空语句，是为了保持程序结构的完整性。\n",
    " - pass 不做任何事情，一般用做占位语句"
   ]
  },
  {
   "cell_type": "markdown",
   "metadata": {},
   "source": [
    "## 三. 三目表达式\n",
    "\n",
    "如果条件为真，返回真 否则返回假\n",
    "```\n",
    "condition_is_true if condition else condition_is_false\n",
    "```"
   ]
  },
  {
   "cell_type": "code",
   "execution_count": 8,
   "metadata": {},
   "outputs": [
    {
     "name": "stdout",
     "output_type": "stream",
     "text": [
      "方法一输出结果：False\n",
      "方法二输出结果：False\n",
      "if语句的输出结果：False\n"
     ]
    }
   ],
   "source": [
    "if __name__ == '__main__':\n",
    "    a = ''\n",
    "    b = 'True'\n",
    "    c = 'False'\n",
    "    \n",
    "    #方法一：为真时的结果 if 判定条件 else 为假时的结果\n",
    "    d = b if a else c\n",
    "    print('方法一输出结果：' + d)\n",
    "    \n",
    "    #方法二：判定条件 and 为真时的结果 or 为假时的结果\n",
    "    d = a and b or c\n",
    "    print('方法二输出结果：' + d)\n",
    "\n",
    "    #以上两种方法方法等同于if ... else ...\n",
    "    if a:\n",
    "        d = b\n",
    "    else:\n",
    "        d = c\n",
    "    print('if语句的输出结果：' + d)"
   ]
  },
  {
   "cell_type": "markdown",
   "metadata": {},
   "source": [
    "## 四.  容器\n",
    "容器是一种把多个元素组织在一起的数据结构。容器中的元素可以通过for循环逐个地迭代获取，也可以通过in关键字来判断元素是否在容器中。\n",
    "\n",
    "在Python中，常见的容器对象：\n",
    " - list、dequeue...\n",
    " - set、frozenset...\n",
    " - dict、defaultdict、OrderDict...\n",
    " - tuple、namedtuple...\n",
    " - str\n",
    " - file\n",
    " \n",
    "更多内容可参考：https://docs.python.org/zh-cn/3/library/collections.html"
   ]
  },
  {
   "cell_type": "markdown",
   "metadata": {},
   "source": [
    "## 五. 可迭代对象\n",
    "Python中任意的对象，只要它定义了可以返回一个迭代器的__iter__方法，或者定义了可以支持下标索引的__getitem__方法(这些双下划线方法会在其他章节中全面解释)，那么它就是一个可迭代对象。简单说，可迭代对象就是能提供迭代器的任意对象"
   ]
  },
  {
   "cell_type": "markdown",
   "metadata": {},
   "source": [
    "## 六. 迭代器\n",
    "参考教程：http://www.runoob.com/python3/python3-iterator-generator.html\n",
    "\n",
    " - 迭代是Python最强大的功能之一，是访问集合元素的一种方式。\n",
    " - 迭代器是一个可以记住遍历的位置的对象。\n",
    " - 迭代器对象从集合的第一个元素开始访问，直到所有的元素被访问完结束。迭代器只能往前不会后退。\n",
    " - 迭代器有两个基本的方法：iter() 和 next()。\n",
    "\n",
    "字符串，列表或元组对象都可用于创建迭代器"
   ]
  },
  {
   "cell_type": "code",
   "execution_count": 11,
   "metadata": {},
   "outputs": [
    {
     "name": "stdout",
     "output_type": "stream",
     "text": [
      "1\n",
      "2\n",
      "1 2 3 4 "
     ]
    }
   ],
   "source": [
    "list=[1,2,3,4]\n",
    "it = iter(list)    # 创建迭代器对象\n",
    "print (next(it))   # 输出迭代器的下一个元素\n",
    "print (next(it))\n",
    "\n",
    "# 迭代器对象可以使用常规for语句进行遍历\n",
    "list=[1,2,3,4]\n",
    "it = iter(list)    # 创建迭代器对象\n",
    "for x in it:\n",
    "    print (x, end=\" \")"
   ]
  },
  {
   "cell_type": "markdown",
   "metadata": {},
   "source": [
    "## 七. 生成器\n",
    "在 Python 中，使用了 yield 的函数被称为生成器（generator）。\n",
    "\n",
    "跟普通函数不同的是，生成器是一个返回迭代器的函数，只能用于迭代操作，更简单点理解生成器就是一个迭代器。\n",
    "\n",
    "在调用生成器运行的过程中，每次遇到 yield 时函数会暂停并保存当前所有的运行信息，返回 yield 的值, 并在下一次执行 next() 方法时从当前位置继续运行。\n",
    "\n",
    "调用一个生成器函数，返回的是一个迭代器对象。\n",
    "\n",
    "**Python可迭代对象，迭代器，生成器的区别**：https://blog.csdn.net/jinixin/article/details/72232604"
   ]
  },
  {
   "cell_type": "code",
   "execution_count": 13,
   "metadata": {},
   "outputs": [
    {
     "name": "stdout",
     "output_type": "stream",
     "text": [
      "0\n",
      "1\n",
      "2\n",
      "3\n",
      "4\n",
      "5\n",
      "6\n",
      "7\n",
      "8\n",
      "9\n"
     ]
    }
   ],
   "source": [
    "def generator_function():\n",
    "    for i in range(10):\n",
    "        yield i\n",
    "\n",
    "for item in generator_function():\n",
    "    print(item)"
   ]
  },
  {
   "cell_type": "markdown",
   "metadata": {},
   "source": [
    "## 八. 作业\n",
    "请对方输入一个0-9之间的数字，进行检查，若不是数字提示：您输入的不是数字，请输入0-9间的数字，若数字不在0-9范围内，提示用户输入0-9之间的数字，直至用户输入正确。\n",
    "\n",
    "系统随机生成一个长度为3的数字列表，且列表中元素在0-9之间并且不相等。将用户输入与该列表进行比较，若为列表第一个元素，则荣获第一名，列表第二个元素，则荣获第二名，列表第三个名字，则荣获第三名，否则提示用户未得奖，输入1重新开始游戏，输入2则结束游戏。\n",
    "\n",
    "注意：每次游戏中列表中数字要求随机生成，每轮游戏都不相等。"
   ]
  },
  {
   "cell_type": "code",
   "execution_count": 4,
   "metadata": {
    "scrolled": true
   },
   "outputs": [
    {
     "name": "stdout",
     "output_type": "stream",
     "text": [
      "请输入一个0-9之间的数字： test\n",
      "您输入的不是数字，请输入0-9间的数字！\n",
      "请输入一个0-9之间的数字： 11\n",
      "您输入的数字不在0-9范围内，请输入0-9之间的数字！\n",
      "请输入一个0-9之间的数字： 4\n",
      "本次中奖号码为[7, 6, 3]\n",
      "抱歉的通知您，您在本次游戏中未得奖！谢谢参与\n",
      "输入1重新开始游戏，输入2则结束游戏: 5\n",
      "您的输入有误，请重新输入！\n",
      "输入1重新开始游戏，输入2则结束游戏: 1\n",
      "请输入一个0-9之间的数字： 3\n",
      "本次中奖号码为[6, 7, 2]\n",
      "抱歉的通知您，您在本次游戏中未得奖！谢谢参与\n",
      "输入1重新开始游戏，输入2则结束游戏: 2\n",
      "谢谢您的参与，再见！\n"
     ]
    }
   ],
   "source": [
    "import random \n",
    "flag = 1\n",
    "while flag != 2:\n",
    "    while True:\n",
    "        number = input('请输入一个0-9之间的数字： ')\n",
    "        if str.isdigit(number):  #判断输入的是否为非数字\n",
    "            if int(number) not in range(0,10):  # 判断输入的是否在0-9范围内\n",
    "                print('您输入的数字不在0-9范围内，请输入0-9之间的数字！')\n",
    "            else:\n",
    "                break\n",
    "        else:\n",
    "            print('您输入的不是数字，请输入0-9间的数字！')\n",
    "            continue\n",
    "    winning_number = random.sample(range(0, 10), 3)\n",
    "    print('本次中奖号码为{}'.format(winning_number))\n",
    "    if number ==  winning_number[0]:\n",
    "        print('恭喜你，荣获第一名！')\n",
    "    elif number == winning_number[1]:\n",
    "            print('恭喜你，荣获第二名！')\n",
    "    elif number == winning_number[2]:\n",
    "            print('恭喜你，荣获第三名！')\n",
    "    else:\n",
    "        print('抱歉的通知您，您在本次游戏中未得奖！谢谢参与')\n",
    "    while True:\n",
    "        flag = int(input('输入1重新开始游戏，输入2则结束游戏: '))\n",
    "        if flag == 1:\n",
    "            break\n",
    "        elif flag == 2:\n",
    "            print('谢谢您的参与，再见！')\n",
    "            break\n",
    "        else:\n",
    "            print('您的输入有误，请重新输入！')\n",
    "            continue"
   ]
  },
  {
   "cell_type": "code",
   "execution_count": null,
   "metadata": {},
   "outputs": [],
   "source": []
  }
 ],
 "metadata": {
  "kernelspec": {
   "display_name": "Python 3",
   "language": "python",
   "name": "python3"
  },
  "language_info": {
   "codemirror_mode": {
    "name": "ipython",
    "version": 3
   },
   "file_extension": ".py",
   "mimetype": "text/x-python",
   "name": "python",
   "nbconvert_exporter": "python",
   "pygments_lexer": "ipython3",
   "version": "3.7.1"
  }
 },
 "nbformat": 4,
 "nbformat_minor": 2
}
