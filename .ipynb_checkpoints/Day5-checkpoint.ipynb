{
 "cells": [
  {
   "cell_type": "markdown",
   "metadata": {},
   "source": [
    "# Day 5\n",
    "## 1. 正则表达式re\n",
    "正则表达式是一个特殊的字符序列，它能帮助你方便的检查一个字符串是否与某种模式匹配。\n",
    "\n",
    "Python 自1.5版本起增加了re 模块，它提供 Perl 风格的正则表达式模式。\n",
    "\n",
    "re 模块使 Python 语言拥有全部的正则表达式功能。\n",
    "\n",
    "compile 函数根据一个模式字符串和可选的标志参数生成一个正则表达式对象。该对象拥有一系列方法用于正则表达式匹配和替换。\n",
    "\n",
    "re 模块也提供了与这些方法功能完全一致的函数，这些函数使用一个模式字符串做为它们的第一个参数。\n",
    "\n",
    "### 1.1 re.match函数\n",
    "re.match 尝试从字符串的起始位置匹配一个模式，如果不是起始位置匹配成功的话，match()就返回none。匹配成功re.match方法返回一个匹配的对象，否则返回None。\n",
    "```\n",
    "re.match(pattern, string, flags=0)\n",
    "```\n",
    "函数参数说明：\n",
    " - pattern\t匹配的正则表达式\n",
    " - string\t要匹配的字符串。\n",
    " - flags\t标志位，用于控制正则表达式的匹配方式，如：是否区分大小写，多行匹配等等。参见：http://www.runoob.com/python3/python3-reg-expressions.html#flags(正则表达式修饰符 - 可选标志)"
   ]
  },
  {
   "cell_type": "code",
   "execution_count": 1,
   "metadata": {},
   "outputs": [
    {
     "name": "stdout",
     "output_type": "stream",
     "text": [
      "(0, 3)\n",
      "None\n"
     ]
    }
   ],
   "source": [
    "import re\n",
    "print(re.match('www', 'www.baidu.com').span())  # 在起始位置匹配  span([group]): 返回(start(group), end(group))。\n",
    "print(re.match('com', 'www.baidu.com'))  #不在起始位置匹配"
   ]
  },
  {
   "cell_type": "markdown",
   "metadata": {},
   "source": [
    "我们可以使用group(num) 或 groups() 匹配对象函数来获取匹配表达式。\n",
    " - group(num=0)\t  匹配的整个表达式的字符串，group() 可以一次输入多个组号，在这种情况下它将返回一个包含那些组所对应值的元组。\n",
    " - groups()\t  返回一个包含所有小组字符串的元组，从 1 到 所含的小组号。"
   ]
  },
  {
   "cell_type": "code",
   "execution_count": 2,
   "metadata": {},
   "outputs": [
    {
     "name": "stdout",
     "output_type": "stream",
     "text": [
      "matchObj.group() :  Cats are smarter than dogs\n",
      "matchObj.group(1) :  Cats\n",
      "matchObj.group(2) :  smarter\n"
     ]
    }
   ],
   "source": [
    "import re\n",
    " \n",
    "line = \"Cats are smarter than dogs\"\n",
    "# .* 表示任意匹配除换行符（\\n、\\r）之外的任何单个或多个字符\n",
    "matchObj = re.match( r'(.*) are (.*?) .*', line, re.M|re.I)\n",
    " \n",
    "if matchObj:\n",
    "   print (\"matchObj.group() : \", matchObj.group())\n",
    "   print (\"matchObj.group(1) : \", matchObj.group(1))\n",
    "   print (\"matchObj.group(2) : \", matchObj.group(2))\n",
    "else:\n",
    "   print (\"No match!!\")"
   ]
  },
  {
   "cell_type": "markdown",
   "metadata": {},
   "source": [
    "### 1.2 re.search方法\n",
    "re.search 扫描整个字符串并返回第一个成功的匹配。匹配成功re.search方法返回一个匹配的对象，否则返回None。\n",
    "```\n",
    "re.search(pattern, string, flags=0)\n",
    "```\n",
    "函数参数说明：\n",
    " - pattern\t匹配的正则表达式\n",
    " - string\t要匹配的字符串。\n",
    " - flags\t标志位，用于控制正则表达式的匹配方式，如：是否区分大小写，多行匹配等等。参见：http://www.runoob.com/python3/python3-reg-expressions.html#flags(正则表达式修饰符 - 可选标志)"
   ]
  },
  {
   "cell_type": "code",
   "execution_count": 3,
   "metadata": {},
   "outputs": [
    {
     "name": "stdout",
     "output_type": "stream",
     "text": [
      "(0, 3)\n",
      "(10, 13)\n"
     ]
    }
   ],
   "source": [
    "import re\n",
    "print(re.search('www', 'www.baidu.com').span())  # 在起始位置匹配 span([group]): 返回(start(group), end(group))。\n",
    "print(re.search('com', 'www.baidu.com').span())  # 不在起始位置匹配"
   ]
  },
  {
   "cell_type": "markdown",
   "metadata": {},
   "source": [
    "我们可以使用group(num) 或 groups() 匹配对象函数来获取匹配表达式。\n",
    " - group(num=0)\t匹配的整个表达式的字符串，group() 可以一次输入多个组号，在这种情况下它将返回一个包含那些组所对应值的元组。\n",
    " - groups()\t返回一个包含所有小组字符串的元组，从 1 到 所含的小组号。"
   ]
  },
  {
   "cell_type": "code",
   "execution_count": 4,
   "metadata": {},
   "outputs": [
    {
     "name": "stdout",
     "output_type": "stream",
     "text": [
      "searchObj.group() :  Cats are smarter than dogs\n",
      "searchObj.group(1) :  Cats\n",
      "searchObj.group(2) :  smarter\n"
     ]
    }
   ],
   "source": [
    "import re\n",
    " \n",
    "line = \"Cats are smarter than dogs\";\n",
    " \n",
    "searchObj = re.search( r'(.*) are (.*?) .*', line, re.M|re.I)\n",
    " \n",
    "if searchObj:\n",
    "   print (\"searchObj.group() : \", searchObj.group())\n",
    "   print (\"searchObj.group(1) : \", searchObj.group(1))\n",
    "   print (\"searchObj.group(2) : \", searchObj.group(2))\n",
    "else:\n",
    "   print (\"Nothing found!!\")"
   ]
  },
  {
   "cell_type": "markdown",
   "metadata": {},
   "source": [
    "### 1.3 re.match与re.search的区别\n",
    " - re.match只匹配字符串的开始，如果字符串开始不符合正则表达式，则匹配失败，函数返回None；而re.search匹配整个字符串，直到找到一个匹配。"
   ]
  },
  {
   "cell_type": "code",
   "execution_count": 2,
   "metadata": {},
   "outputs": [
    {
     "name": "stdout",
     "output_type": "stream",
     "text": [
      "No match\n",
      "match --> searchObj.group():  day\n"
     ]
    }
   ],
   "source": [
    "import re\n",
    "text = \"Today is a wonderful day\";\n",
    "matchObj = re.match(r'day', text, re.M|re.I)\n",
    "if matchObj:\n",
    "    print('match --> matachObj.group(): ', matchObj.group())\n",
    "else:\n",
    "    print('No match')\n",
    "searchObj = re.search(r'day', text, re.M|re.I)\n",
    "if searchObj:\n",
    "    print('match --> searchObj.group(): ', searchObj.group())\n",
    "else:\n",
    "    print('No match')"
   ]
  },
  {
   "cell_type": "markdown",
   "metadata": {},
   "source": [
    "### 1.4 检索和替换\n",
    "Python 的re模块提供了re.sub用于替换字符串中的匹配项。\n",
    "```\n",
    "re.sub(pattern, repl, string, count=0)\n",
    "```\n",
    "参数：\n",
    " - pattern : 正则中的模式字符串。\n",
    " - repl : 替换的字符串，也可为一个函数。\n",
    " - string : 要被查找替换的原始字符串。\n",
    " - count : 模式匹配后替换的最大次数，默认 0 表示替换所有的匹配。\n"
   ]
  },
  {
   "cell_type": "code",
   "execution_count": 16,
   "metadata": {},
   "outputs": [
    {
     "name": "stdout",
     "output_type": "stream",
     "text": [
      "电话号码 :  2004-959-559 \n",
      "电话号码 :  2004959559\n"
     ]
    }
   ],
   "source": [
    "import re\n",
    " \n",
    "phone = \"2004-959-559 # 这是一个电话号码\"\n",
    " \n",
    "# 删除注释\n",
    "num = re.sub(r'#.*$', \"\", phone)\n",
    "print (\"电话号码 : \", num)\n",
    " \n",
    "# 移除非数字的内容\n",
    "num = re.sub(r'\\D', \"\", phone)\n",
    "print (\"电话号码 : \", num)"
   ]
  },
  {
   "cell_type": "markdown",
   "metadata": {},
   "source": [
    "### 1.5 repl 参数是一个函数"
   ]
  },
  {
   "cell_type": "code",
   "execution_count": 17,
   "metadata": {},
   "outputs": [
    {
     "name": "stdout",
     "output_type": "stream",
     "text": [
      "A46G8HFD1134\n"
     ]
    }
   ],
   "source": [
    "import re\n",
    " \n",
    "# 将匹配的数字乘于 2\n",
    "def double(matched):\n",
    "    value = int(matched.group('value'))\n",
    "    return str(value * 2)\n",
    " \n",
    "s = 'A23G4HFD567'\n",
    "print(re.sub('(?P<value>\\d+)', double, s))"
   ]
  },
  {
   "cell_type": "markdown",
   "metadata": {},
   "source": [
    "### 1.6 compile 函数\n",
    "compile 函数用于编译正则表达式，生成一个正则表达式（ Pattern ）对象，供 match() 和 search() 这两个函数使用。\n",
    "```\n",
    "re.compile(pattern[, flags])\n",
    "```\n",
    "参数：\n",
    " - pattern : 一个字符串形式的正则表达式\n",
    " - flags 可选，表示匹配模式，比如忽略大小写，多行模式等，具体参数为：\n",
    " - re.I 忽略大小写\n",
    " - re.L 表示特殊字符集 \\w, \\W, \\b, \\B, \\s, \\S 依赖于当前环境\n",
    " - re.M 多行模式\n",
    " - re.S 即为' . '并且包括换行符在内的任意字符（' . '不包括换行符）\n",
    " - re.U 表示特殊字符集 \\w, \\W, \\b, \\B, \\d, \\D, \\s, \\S 依赖于 Unicode 字符属性数据库\n",
    " - re.X 为了增加可读性，忽略空格和' # '后面的注释"
   ]
  },
  {
   "cell_type": "code",
   "execution_count": 24,
   "metadata": {},
   "outputs": [
    {
     "name": "stdout",
     "output_type": "stream",
     "text": [
      "None\n",
      "None\n",
      "<re.Match object; span=(3, 5), match='12'>\n"
     ]
    },
    {
     "data": {
      "text/plain": [
       "(3, 5)"
      ]
     },
     "execution_count": 24,
     "metadata": {},
     "output_type": "execute_result"
    }
   ],
   "source": [
    "import re\n",
    "pattern = re.compile(r'\\d+')    # 用于匹配至少一个数字\n",
    "m = pattern.match('one12twothree34four')        # 查找头部，没有匹配\n",
    "print(m)\n",
    "m = pattern.match('one12twothree34four', 2, 10) # 从'e'的位置开始匹配，没有匹配\n",
    "print(m)\n",
    "m = pattern.match('one12twothree34four', 3, 10) # 从'1'的位置开始匹配，正好匹配\n",
    "print(m)     # 返回一个 Match 对象\n",
    "\n",
    "m.group(0)\n",
    "m.start(0)\n",
    "m.end(0)\n",
    "m.span(0)"
   ]
  },
  {
   "cell_type": "markdown",
   "metadata": {},
   "source": [
    "在上面，当匹配成功时返回一个 Match 对象，其中：\n",
    "\n",
    " - group([group1, …]) 方法用于获得一个或多个分组匹配的字符串，当要获得整个匹配的子串时，可直接使用 group() 或 group(0)；\n",
    " - start([group]) 方法用于获取分组匹配的子串在整个字符串中的起始位置（子串第一个字符的索引），参数默认值为 0；\n",
    " - end([group]) 方法用于获取分组匹配的子串在整个字符串中的结束位置（子串最后一个字符的索引+1），参数默认值为 0；\n",
    " - span([group]) 方法返回 (start(group), end(group))。"
   ]
  },
  {
   "cell_type": "markdown",
   "metadata": {},
   "source": [
    "### 1.7 findall\n",
    "在字符串中找到正则表达式所匹配的所有子串，并返回一个列表，如果没有找到匹配的，则返回空列表。\n",
    "**注意：** match 和 search 是匹配一次 findall 匹配所有。\n",
    "```\n",
    "findall(string[, pos[, endpos]])\n",
    "```\n",
    "参数：\n",
    " - string 待匹配的字符串。\n",
    " - pos 可选参数，指定字符串的起始位置，默认为 0。\n",
    " - endpos 可选参数，指定字符串的结束位置，默认为字符串的长度。"
   ]
  },
  {
   "cell_type": "code",
   "execution_count": 25,
   "metadata": {},
   "outputs": [
    {
     "name": "stdout",
     "output_type": "stream",
     "text": [
      "['123', '456']\n",
      "['88', '12']\n"
     ]
    }
   ],
   "source": [
    "import re\n",
    " \n",
    "pattern = re.compile(r'\\d+')   # 查找数字\n",
    "result1 = pattern.findall('runoob 123 google 456')\n",
    "result2 = pattern.findall('run88oob123google456', 0, 10)\n",
    " \n",
    "print(result1)\n",
    "print(result2)"
   ]
  },
  {
   "cell_type": "markdown",
   "metadata": {},
   "source": [
    "### 1.8 re.finditer\n",
    "和 findall 类似，在字符串中找到正则表达式所匹配的所有子串，并把它们作为一个迭代器返回。\n",
    "```\n",
    "re.finditer(pattern, string, flags=0)\n",
    "```\n",
    "参数：\n",
    " - pattern\t匹配的正则表达式\n",
    " - string\t要匹配的字符串。\n",
    " - flags\t标志位，用于控制正则表达式的匹配方式，如：是否区分大小写，多行匹配等等。参见：正则表达式修饰符 - 可选标志"
   ]
  },
  {
   "cell_type": "code",
   "execution_count": 26,
   "metadata": {},
   "outputs": [
    {
     "name": "stdout",
     "output_type": "stream",
     "text": [
      "12\n",
      "32\n",
      "43\n",
      "3\n"
     ]
    }
   ],
   "source": [
    "import re\n",
    " \n",
    "it = re.finditer(r\"\\d+\",\"12a32bc43jf3\") \n",
    "for match in it: \n",
    "    print (match.group() )"
   ]
  },
  {
   "cell_type": "markdown",
   "metadata": {},
   "source": [
    "### 1.9 re.split\n",
    "split 方法按照能够匹配的子串将字符串分割后返回列表，它的使用形式如下：\n",
    "```\n",
    "re.split(pattern, string[, maxsplit=0, flags=0])\n",
    "```\n",
    "参数：\n",
    " - pattern\t匹配的正则表达式\n",
    " - string\t要匹配的字符串。\n",
    " - maxsplit\t分隔次数，maxsplit=1 分隔一次，默认为 0，不限制次数。\n",
    " - flags\t标志位，用于控制正则表达式的匹配方式，如：是否区分大小写，多行匹配等等。参见：正则表达式修饰符 - 可选标志"
   ]
  },
  {
   "cell_type": "code",
   "execution_count": 1,
   "metadata": {
    "collapsed": true
   },
   "outputs": [
    {
     "data": {
      "text/plain": [
       "['', 'h', 'e', 'l', 'l', 'o', ' ', 'w', 'o', 'r', 'l', 'd', '']"
      ]
     },
     "execution_count": 1,
     "metadata": {},
     "output_type": "execute_result"
    }
   ],
   "source": [
    "import re\n",
    "\n",
    "re.split('\\W+', 'runoob, runoob, runoob.')\n",
    "re.split('(\\W+)', ' runoob, runoob, runoob.') \n",
    "re.split('\\W+', ' runoob, runoob, runoob.', 1) \n",
    "re.split('a*', 'hello world')   # 对于一个找不到匹配的字符串而言，split 不会对其作出分割"
   ]
  },
  {
   "cell_type": "markdown",
   "metadata": {},
   "source": [
    "### 1.10正则表达式对象\n",
    "**re.RegexObject**\n",
    "re.compile() 返回 RegexObject 对象。\n",
    "\n",
    "**re.MatchObject**\n",
    "group() 返回被 RE 匹配的字符串。\n",
    " - start() 返回匹配开始的位置\n",
    " - end() 返回匹配结束的位置\n",
    " - span() 返回一个元组包含匹配 (开始,结束) 的位置\n",
    " \n",
    "### 1.11 正则表达式修饰符 - 可选标志\n",
    "正则表达式可以包含一些可选标志修饰符来控制匹配的模式。修饰符被指定为一个可选的标志。多个标志可以通过按位 OR(|) 它们来指定。如 re.I | re.M 被设置成 I 和 M 标志：\n",
    "\n",
    "修饰符：\n",
    " - re.I\t使匹配对大小写不敏感\n",
    " - re.L\t做本地化识别（locale-aware）匹配\n",
    " - re.M\t多行匹配，影响 ^ 和 $\n",
    " - re.S\t使 . 匹配包括换行在内的所有字符\n",
    " - re.U\t根据Unicode字符集解析字符。这个标志影响 \\w, \\W, \\b, \\B.\n",
    " - re.X\t该标志通过给予你更灵活的格式以便你将正则表达式写得更易于理解。\n",
    " \n",
    "### 1.12 正则表达式模式\n",
    "模式字符串使用特殊的语法来表示一个正则表达式：\n",
    "\n",
    "字母和数字表示他们自身。一个正则表达式模式中的字母和数字匹配同样的字符串。\n",
    "\n",
    "多数字母和数字前加一个反斜杠时会拥有不同的含义。\n",
    "\n",
    "标点符号只有被转义时才匹配自身，否则它们表示特殊的含义。\n",
    "\n",
    "反斜杠本身需要使用反斜杠转义。\n",
    "\n",
    "由于正则表达式通常都包含反斜杠，所以你最好使用原始字符串来表示它们。模式元素(如 r'\\t'，等价于 \\\\t )匹配相应的特殊字符。\n",
    "\n",
    "下表列出了正则表达式模式语法中的特殊元素。如果你使用模式的同时提供了可选的标志参数，某些模式元素的含义会改变。\n",
    "\n",
    "模式定义请查阅：http://www.runoob.com/python3/python3-reg-expressions.html(菜鸟教程)\n",
    "\n",
    "### 1.13 正则表达式实例\n",
    " - 字符匹配\n",
    " - 字符类\n",
    " - 特殊字符类"
   ]
  },
  {
   "cell_type": "markdown",
   "metadata": {},
   "source": [
    "## 2. Python3 OS 文件/目录方法\n",
    "\n",
    "参考资料：http://www.runoob.com/python3/python3-os-file-methods.html(菜鸟教程)\n",
    "\n",
    "os 模块提供了非常丰富的方法用来处理文件和目录。常用的方法如下表所示：\n",
    "\n",
    " - os.access(path, mode)    检验权限模式\n",
    " - os.chdir(path)  改变当前工作目录\n",
    " - os.chflags(path, flags)  设置路径的标记为数字标记。\n",
    " - os.chmod(path, mode)  更改权限\n",
    " - os.chown(path, uid, gid)  更改文件所有者\n",
    " - os.chroot(path)  改变当前进程的根目录\n",
    " - os.close(fd)  关闭文件描述符 fd\n",
    " - os.closerange(fd_low, fd_high)  关闭所有文件描述符，从 fd_low (包含) 到 fd_high (不包含), 错误会忽略\n",
    " - os.dup(fd)  复制文件描述符 fd\n",
    " - os.dup2(fd, fd2)  将一个文件描述符 fd 复制到另一个 fd2\n",
    " - os.fchdir(fd)  通过文件描述符改变当前工作目录\n",
    " - os.fchmod(fd, mode)  改变一个文件的访问权限，该文件由参数fd指定，参数mode是Unix下的文件访问权限。\n",
    " - os.fchown(fd, uid, gid)  修改一个文件的所有权，这个函数修改一个文件的用户ID和用户组ID，该文件由文件描述符fd指定。\n",
    " - os.fdatasync(fd)  强制将文件写入磁盘，该文件由文件描述符fd指定，但是不强制更新文件的状态信息。\n",
    " - os.fdopen(fd[, mode[, bufsize]])  通过文件描述符 fd 创建一个文件对象，并返回这个文件对象\n",
    " - os.fpathconf(fd, name)  返回一个打开的文件的系统配置信息。name为检索的系统配置的值，它也许是一个定义系统值的字符串，这些名字在很多标准中指定（POSIX.1, Unix 95, Unix 98, 和其它）。\n",
    " - os.fstat(fd)  返回文件描述符fd的状态，像stat()。\n",
    " - os.fstatvfs(fd)  返回包含文件描述符fd的文件的文件系统的信息，像 statvfs()\n",
    " - os.fsync(fd)  强制将文件描述符为fd的文件写入硬盘。\n",
    " - os.ftruncate(fd, length)  裁剪文件描述符fd对应的文件, 所以它最大不能超过文件大小。\n",
    " - os.getcwd() 返回当前工作目录\n",
    " - os.getcwdu()  返回一个当前工作目录的Unicode对象\n",
    " - os.isatty(fd)  如果文件描述符fd是打开的，同时与tty(-like)设备相连，则返回true, 否则False。\n",
    " - os.lchflags(path, flags)  设置路径的标记为数字标记，类似 chflags()，但是没有软链接\n",
    " - os.lchmod(path, mode)  修改连接文件权限\n",
    " - os.lchown(path, uid, gid)  更改文件所有者，类似 chown，但是不追踪链接。\n",
    " - os.link(src, dst)  创建硬链接，名为参数 dst，指向参数 src\n",
    " - os.listdir(path)  返回path指定的文件夹包含的文件或文件夹的名字的列表。\n",
    " - os.lseek(fd, pos, how)  设置文件描述符 fd当前位置为pos, how方式修改: SEEK_SET 或者 0 设置从文件开始的计算的pos; SEEK_CUR或者 1 则从当前位置计算; os.SEEK_END或者2则从文件尾部开始. 在unix，Windows中有效\n",
    " - os.lstat(path)  像stat(),但是没有软链接\n",
    " - os.major(device)  从原始的设备号中提取设备major号码 (使用stat中的st_dev或者st_rdev field)。\n",
    " - os.makedev(major, minor)  以major和minor设备号组成一个原始设备号\n",
    " - os.makedirs(path[, mode])  递归文件夹创建函数。像mkdir(), 但创建的所有intermediate-level文件夹需要包含子文件夹。\n",
    " - os.minor(device)  从原始的设备号中提取设备minor号码 (使用stat中的st_dev或者st_rdev field )。\n",
    " - os.mkdir(path[, mode])  以数字mode的mode创建一个名为path的文件夹.默认的 mode 是 0777 (八进制)。\n",
    " - os.mkfifo(path[, mode]) 创建命名管道，mode 为数字，默认为 0666 (八进制)\n",
    " - os.mknod(filename[, mode=0600, device])  创建一个名为filename文件系统节点（文件，设备特别文件或者命名pipe）。\n",
    " - os.open(file, flags[, mode])  打开一个文件，并且设置需要的打开选项，mode参数是可选的\n",
    " - os.openpty()  打开一个新的伪终端对。返回 pty 和 tty的文件描述符。\n",
    " - os.pathconf(path, name)  返回相关文件的系统配置信息。\n",
    " - os.pipe()  创建一个管道. 返回一对文件描述符(r, w) 分别为读和写\n",
    " - os.popen(command[, mode[, bufsize]])  从一个 command 打开一个管道\n",
    " - os.read(fd, n)  从文件描述符 fd 中读取最多 n 个字节，返回包含读取字节的字符串，文件描述符 fd对应文件已达到结尾, 返回一个空字符串。\n",
    " - os.readlink(path)  返回软链接所指向的文件\n",
    " - os.remove(path)  删除路径为path的文件。如果path 是一个文件夹，将抛出OSError; 查看下面的rmdir()删除一个 directory。\n",
    " - os.removedirs(path)  递归删除目录。\n",
    " - os.rename(src, dst)  重命名文件或目录，从 src 到 dst\n",
    " - os.renames(old, new)  递归地对目录进行更名，也可以对文件进行更名。\n",
    " - os.rmdir(path)  删除path指定的空目录，如果目录非空，则抛出一个OSError异常。\n",
    " - os.stat(path)  获取path指定的路径的信息，功能等同于C API中的stat()系统调用。\n",
    " - os.stat_float_times([newvalue])  决定stat_result是否以float对象显示时间戳\n",
    " -  os.statvfs(path)  获取指定路径的文件系统统计信息\n",
    " - os.symlink(src, dst)  创建一个软链接\n",
    " - os.tcgetpgrp(fd)  返回与终端fd（一个由os.open()返回的打开的文件描述符）关联的进程组\n",
    " - os.tcsetpgrp(fd, pg)  设置与终端fd（一个由os.open()返回的打开的文件描述符）关联的进程组为pg。\n",
    " - os.tempnam([dir[, prefix]])  Python3 中已删除。返回唯一的路径名用于创建临时文件。\n",
    " - os.tmpfile()  Python3 中已删除。返回一个打开的模式为(w+b)的文件对象 .这文件对象没有文件夹入口，没有文件描述符，将会自动删除。\n",
    " - os.tmpnam()  Python3 中已删除。为创建一个临时文件返回一个唯一的路径\n",
    " - os.ttyname(fd)  返回一个字符串，它表示与文件描述符fd 关联的终端设备。如果fd 没有与终端设备关联，则引发一个异常。\n",
    " - os.unlink(path)  删除文件路径\n",
    " - os.utime(path, times)  返回指定的path文件的访问和修改的时间。\n",
    " - os.walk(top[, topdown=True[, onerror=None[, followlinks=False]]])  输出在文件夹中的文件名通过在树中游走，向上或者向下。\n",
    " - os.write(fd, str)  写入字符串到文件描述符 fd中. 返回实际写入的字符串长度\n",
    " - os.path 模块  获取文件的属性信息。"
   ]
  },
  {
   "cell_type": "markdown",
   "metadata": {},
   "source": [
    "## 3. datetime模块\n",
    "\n",
    "参考资料：https://docs.python.org/3/library/datetime.html\n",
    "\n",
    " - 导入模块\n",
    " ```\n",
    "from datetime import *\n",
    "```\n",
    " - 获取当前时间:\n",
    "```\n",
    "now = datetime.now()\n",
    "td = datetime.today()\n",
    "```\n",
    " - 格式化打印时间 格式字符串参见后边的附录。\n",
    "```\n",
    "format = \"%Y-%m-%d %H:%M:%S\"\n",
    "print('今天的日期：'+ now.strftime(format))\n",
    "```\n",
    "\n",
    " - 根据字符串返回datetime对象 格式化的字符串应与前边的时间对应。比如：\"2017-09-18 13:02:34\", \"%Y-%m-%d %H:%M:%S\"\n",
    "```\n",
    "print('strptime:{}'.format(datetime.strptime(\"2017-09-18\", \"%Y-%m-%d\")))\n",
    "```\n",
    " - 时间对象转换成时间戮\n",
    "```\n",
    "tmp = td.timestamp()\n",
    "print('timestamp: {}'.format(tmp))\n",
    "```\n",
    " - 根据时间戮转换成datetime对象\n",
    "```\n",
    "print('fromtimestamp:{}'.format(datetime.fromtimestamp(tmp)))\n",
    "```\n",
    " - 星期几？0是星期一\n",
    "```\n",
    "print(now.weekday()+1)\n",
    "```\n",
    " - datetime 支持的最大及最小时间单位\n",
    "```\n",
    "print(datetime.max)\n",
    "print(datetime.min)\n",
    "```\n",
    " - 打印datetime对象包含的一个tuple\n",
    "```\n",
    "for it in now.timetuple():\n",
    "    print(it)\n",
    "```\n",
    "\n",
    "**附录：格式字符串**\n",
    "datetime. strftime (format)\n",
    " - %a 星期的简写。如 星期三为Web\n",
    " - %A 星期的全写。如 星期三为Wednesday\n",
    " - %b 月份的简写。如4月份为Apr\n",
    " - %B月份的全写。如4月份为April\n",
    " - %c: 日期时间的字符串表示。（如： 04/07/10 10:43:39）\n",
    " - %d: 日在这个月中的天数（是这个月的第几天）\n",
    " - %f: 微秒（范围[0,999999]）\n",
    " - %H: 小时（24小时制，[0, 23]）\n",
    " - %I: 小时（12小时制，[0, 11]）\n",
    " - %j: 日在年中的天数 [001,366]（是当年的第几天）\n",
    " - %m: 月份（[01,12]）\n",
    " - %M: 分钟（[00,59]）\n",
    " - %p: AM或者PM\n",
    " - %S: 秒（范围为[00,61]，为什么不是[00, 59]，参考python手册~_~）\n",
    " - %U: 周在当年的周数当年的第几周），星期天作为周的第一天\n",
    " - %w: 今天在这周的天数，范围为[0, 6]，6表示星期天\n",
    " - %W: 周在当年的周数（是当年的第几周），星期一作为周的第一天\n",
    " - %x: 日期字符串（如：04/07/10）\n",
    " - %X: 时间字符串（如：10:43:39）\n",
    " - %y: 2个数字表示的年份\n",
    " - %Y: 4个数字表示的年份\n",
    " - %z: 与utc时间的间隔 （如果是本地时间，返回空字符串）\n",
    " - %Z: 时区名称（如果是本地时间，返回空字符串）\n",
    " - %%: %% => %\n"
   ]
  },
  {
   "cell_type": "markdown",
   "metadata": {},
   "source": [
    "## 4. http请求\n",
    "参考文档：\n",
    "1. request：http://docs.python-requests.org/zh_CN/latest/\n",
    "2. python HTTP请求--requests 的使用：https://blog.csdn.net/lanyang123456/article/details/72594982"
   ]
  },
  {
   "cell_type": "code",
   "execution_count": 4,
   "metadata": {},
   "outputs": [
    {
     "name": "stdout",
     "output_type": "stream",
     "text": [
      "请您输入一个时间（格式: 1992-01-18 23:48:59):test-test-test test:test:test\n",
      "[Error]: test-test-test test:test:test 日期输入错误,请重新输入！！！\n",
      "请您输入一个时间（格式: 1992-01-18 23:48:59):1992-01-18 23:48:54\n",
      "[Info]: 输入时间 1992-01-18 23:48:54 与 当前时间 2019-01-30 22:46:28 相差: 9873天 22小时 57分钟 34秒\n"
     ]
    }
   ],
   "source": [
    "# 作业1：请用户输入一个时间，输出选项所对应的现在时间，告诉用户这两个时间相隔的天数，小时数，分钟数和秒数。\n",
    "import re\n",
    "import datetime\n",
    "\n",
    "while True:\n",
    "    # 判断正确的日期输入 \n",
    "    reg_date = \"^((([0-9]{3}[1-9]|[0-9]{2}[1-9][0-9]{1}|[0-9]{1}[1-9][0-9]{2}|[1-9][0-9]{3})\" \\\n",
    "               \"-(((0[13578]|1[02])-(0[1-9]|[12][0-9]|3[01]))|((0[469]|11)-(0[1-9]|[12][0-9]|30))\" \\\n",
    "               \"|(02-(0[1-9]|[1][0-9]|2[0-8]))))|((([0-9]{2})(0[48]|[2468][048]|[13579][26])|((0[48]\" \\\n",
    "               \"|[2468][048]|[3579][26])00))-02-29))\\\\s+([0-1]?[0-9]|2[0-3]):([0-5][0-9]):([0-5][0-9])$\"\n",
    "\n",
    "    _date = input(\"请您输入一个时间（格式: 1992-01-18 23:48:59):\")\n",
    "    # 优先匹配日期是否正确\n",
    "    match_date = re.match(reg_date, _date, re.M)\n",
    "    if match_date:\n",
    "        match_date = str(match_date.group())\n",
    "        # 将输入时间转换成 datetime.datetime() 类型\n",
    "        input_date = datetime.datetime.strptime(match_date, \"%Y-%m-%d %H:%M:%S\")\n",
    "        # 获取当前的时间\n",
    "        now = datetime.datetime.now()\n",
    "        if str(input_date) > str(now):\n",
    "            _diff = input_date - now\n",
    "        else:\n",
    "            _diff = now - input_date\n",
    "        _days = (_diff).days  # 获取时间差的天数\n",
    "        _second = (_diff).seconds  # 获取时间差中的秒数(只是时间差中的小时、分钟和秒部分的和，并没有包含时间差的天数)\n",
    "        # _total_seconds = (_diff).total_seconds()  # 获取准确的时间差，并将时间差转换为秒\n",
    "        _hours = _second // (60 * 60)\n",
    "        _minutes = (_second - _hours * 60 * 60) // 60\n",
    "        _seconds = _second - _hours * 60 * 60 - _minutes * 60\n",
    "\n",
    "        print(\"[Info]: 输入时间 {0} 与 当前时间 {1} 相差: {2}天 {3}小时 {4}分钟 {5}秒\".format(\n",
    "            input_date, now.strftime(\"%Y-%m-%d %H:%M:%S\"), _days, _hours, _minutes, _seconds))\n",
    "        break\n",
    "    else:\n",
    "        print(\"[Error]: {0} 日期输入错误,请重新输入！！！\".format(_date))"
   ]
  },
  {
   "cell_type": "code",
   "execution_count": 3,
   "metadata": {},
   "outputs": [
    {
     "name": "stdout",
     "output_type": "stream",
     "text": [
      "请您输入邮箱:（格式: 12345678@qq.com):hkkldiie\n",
      "您输入的邮箱不正确\n",
      "请您输入邮箱:（格式: 12345678@qq.com):test123456@163.com\n",
      "您输入的邮箱是:  test123456@163.com\n",
      "请您输入手机号码:（格式: 13322334455):jjkli\n",
      "您输入的手机号码不正确\n",
      "请您输入手机号码:（格式: 13322334455):117788\n",
      "您输入的手机号码不正确\n",
      "请您输入手机号码:（格式: 13322334455):13455689908\n",
      "您输入的手机号码是:  13455689908\n"
     ]
    }
   ],
   "source": [
    "# 作业2：请用户输入电话及邮箱，判断用户输入是否合法。\n",
    "import re\n",
    "\n",
    "reg_mail = \"^\\w+([-+.]\\w+)*@\\w+([-.]\\w+)*\\.\\w+([-.]\\w+)*$\"  # Email地址\n",
    "reg_phone = \"1[3,4,5,7,8]\\d{9}\"\n",
    "while True:\n",
    "    _mail = input(\"请您输入邮箱:（格式: 12345678@qq.com):\")\n",
    "    match_mail = re.match(reg_mail, _mail, re.M)\n",
    "    if not match_mail:\n",
    "        print(\"您输入的邮箱不正确\")\n",
    "    else:\n",
    "        print(\"您输入的邮箱是: \", _mail)\n",
    "        break\n",
    "while True:    \n",
    "    _phone = input(\"请您输入手机号码:（格式: 13322334455):\")\n",
    "    match_phone = re.match(reg_phone, _phone, re.M)\n",
    "    if not match_phone:\n",
    "        print(\"您输入的手机号码不正确\")\n",
    "    else:\n",
    "        print(\"您输入的手机号码是: \", _phone)\n",
    "        break"
   ]
  },
  {
   "cell_type": "code",
   "execution_count": 2,
   "metadata": {},
   "outputs": [
    {
     "name": "stdout",
     "output_type": "stream",
     "text": [
      "www.baidu.com/img/baidu_jgylogo3.gif\n",
      "www.baidu.com/img/bd_logo1.png\n"
     ]
    }
   ],
   "source": [
    "# 作业3: 对http://www.baidu.com 进行请求，并用正则化匹配图片内容。将百度图标爬取下来保存至本地\n",
    "import os\n",
    "import re\n",
    "import urllib.request\n",
    "\n",
    "import requests\n",
    "\n",
    "url = \"https://www.baidu.com/\"\n",
    "headers = {\n",
    "    'user-agent': \"Mozilla/5.0 (Windows NT 10.0; WOW64) AppleWebKit/537.36 \"\n",
    "                  \"(KHTML, like Gecko) Chrome/71.0.3578.98 Safari/537.36\",\n",
    "    'cookie': \"BAIDUID=827E342A20768F0004E6DC76FF016A09:FG=1; BIDUPSID=827E342A20768F0004E6DC76FF016A09; \"\n",
    "              \"PSTM=1525848041; delPer=0; pgv_pvi=5437453312; locale=zh; BD_UPN=12314753; MCITY=-257%3A; \"\n",
    "              \"ZD_ENTRY=google; delPer=0; BD_HOME=0; H_PS_PSSID=26524_1425_21097_28328_28415_20719\",\n",
    "}\n",
    "\n",
    "response = requests.request(\"GET\", url, headers=headers)\n",
    "url_list = re.findall(r'src=\"//(.+?.(?:bmp|jpg|png|gif))\"?', response.text)\n",
    "file_path = 'baidu\\img'\n",
    "for img_url in set(url_list):\n",
    "    print(img_url)\n",
    "    # 下载图片保存到本地，参考 https://www.jianshu.com/p/938763947de3\n",
    "    try:\n",
    "        if not os.path.exists(file_path):\n",
    "            print('文件夹', file_path, '不存在，重新建立')\n",
    "            # os.mkdir(file_path)\n",
    "            os.makedirs(file_path)\n",
    "        # 获得图片名称\n",
    "        file_suffix = img_url.split(\"/\")[-1]\n",
    "        # 拼接图片名（包含路径）\n",
    "        filename = '{0}{1}{2}'.format(file_path, os.sep, file_suffix)\n",
    "        # print(filename)\n",
    "        # 下载图片，并保存到文件夹中\n",
    "        img_url = \"http://{0}\".format(img_url)\n",
    "        urllib.request.urlretrieve(img_url, filename=filename)\n",
    "    except IOError as e:\n",
    "        print('文件操作失败', e)\n",
    "    except Exception as e:\n",
    "        print ('错误 ：', e)"
   ]
  }
 ],
 "metadata": {
  "kernelspec": {
   "display_name": "Python 3",
   "language": "python",
   "name": "python3"
  },
  "language_info": {
   "codemirror_mode": {
    "name": "ipython",
    "version": 3
   },
   "file_extension": ".py",
   "mimetype": "text/x-python",
   "name": "python",
   "nbconvert_exporter": "python",
   "pygments_lexer": "ipython3",
   "version": "3.7.1"
  }
 },
 "nbformat": 4,
 "nbformat_minor": 2
}
