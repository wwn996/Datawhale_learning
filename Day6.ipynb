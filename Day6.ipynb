{
 "cells": [
  {
   "cell_type": "markdown",
   "metadata": {},
   "source": [
    "# Day 6\n",
    "## 1. 函数\n",
    "函数是组织好的，可重复使用的，用来实现单一，或相关联功能的代码段。\n",
    "\n",
    "函数能提高应用的模块性，和代码的重复利用率。你已经知道Python提供了许多内建函数，比如print()。但你也可以自己创建函数，这被叫做用户自定义函数。\n",
    "\n",
    "### 1.1 定义一个函数\n",
    "定义一个由自己想要功能的函数，以下是简单的规则：\n",
    " - 函数代码块以 def 关键词开头，后接函数标识符名称和圆括号 ()。\n",
    " - 任何传入参数和自变量必须放在圆括号中间，圆括号之间可以用于定义参数。\n",
    " - 函数的第一行语句可以选择性地使用文档字符串—用于存放函数说明。\n",
    " - 函数内容以冒号起始，并且缩进。\n",
    " - return [表达式] 结束函数，选择性地返回一个值给调用方。不带表达式的return相当于返回 None。\n",
    "\n",
    "语法：\n",
    "```\n",
    "def 函数名（参数列表）:\n",
    "    函数体\n",
    "```"
   ]
  },
  {
   "cell_type": "code",
   "execution_count": 39,
   "metadata": {},
   "outputs": [
    {
     "name": "stdout",
     "output_type": "stream",
     "text": [
      "30\n",
      "width = 4 heigth = 5 area = 20\n"
     ]
    }
   ],
   "source": [
    "def sum(num1, num2):\n",
    "    return num1 + num2\n",
    "print(sum(10,20))\n",
    "\n",
    "def area(width, height):\n",
    "    return width * height\n",
    "w = 4\n",
    "h = 5\n",
    "print(\"width =\", w, \"heigth =\", h, \"area =\", area(w, h))"
   ]
  },
  {
   "cell_type": "markdown",
   "metadata": {},
   "source": [
    "### 1.2 函数调用\n",
    "定义一个函数：给了函数一个名称，指定了函数里包含的参数，和代码块结构。\n",
    "\n",
    "这个函数的基本结构完成以后，你可以通过另一个函数调用执行，也可以直接从 Python 命令提示符执行。"
   ]
  },
  {
   "cell_type": "code",
   "execution_count": 40,
   "metadata": {},
   "outputs": [
    {
     "name": "stdout",
     "output_type": "stream",
     "text": [
      "我要调用用户自定义函数！\n",
      "再次调用同一函数！\n"
     ]
    }
   ],
   "source": [
    "# 定义函数\n",
    "def printme(str):\n",
    "    # 打印任何传入的字符串\n",
    "    print(str)\n",
    "    return\n",
    "\n",
    "# 调用函数\n",
    "printme(\"我要调用用户自定义函数！\")\n",
    "printme(\"再次调用同一函数！\")"
   ]
  },
  {
   "cell_type": "markdown",
   "metadata": {},
   "source": [
    "### 1.3 参数传递\n",
    "在 python 中，类型属于对象，变量是没有类型的：\n",
    "```\n",
    "a=[1,2,3]\n",
    "a=\"Runoob\"\n",
    "```\n",
    "以上代码中，[1,2,3] 是 List 类型，\"Runoob\" 是 String 类型，而变量 a 是没有类型，她仅仅是一个对象的引用（一个指针），可以是指向 List 类型对象，也可以是指向 String 类型对象。\n",
    "\n",
    "#### 1.3.1 可更改与不可更改对象\n",
    "在 python 中，strings, tuples, 和 numbers 是不可更改的对象，而 list,dict 等则是可以修改的对象。\n",
    " - 不可变类型：变量赋值 a=5 后再赋值 a=10，这里实际是新生成一个 int 值对象 10，再让 a 指向它，而 5 被丢弃，不是改变a的值，相当于新生成了a。\n",
    " - 可变类型：变量赋值 la=[1,2,3,4] 后再赋值 la[2]=5 则是将 list la 的第三个元素值更改，本身la没有动，只是其内部的一部分值被修改了。\n",
    "\n",
    "python 函数的参数传递：\n",
    " - 不可变类型：类似 c++ 的值传递，如 整数、字符串、元组。如fun（a），传递的只是a的值，没有影响a对象本身。比如在 fun（a）内部修改 a 的值，只是修改另一个复制的对象，不会影响 a 本身。\n",
    " - 可变类型：类似 c++ 的引用传递，如 列表，字典。如 fun（la），则是将 la 真正的传过去，修改后fun外部的la也会受影响\n",
    "\n",
    "python 中一切都是对象，严格意义我们不能说值传递还是引用传递，我们应该说传不可变对象和传可变对象。"
   ]
  },
  {
   "cell_type": "code",
   "execution_count": 41,
   "metadata": {},
   "outputs": [
    {
     "name": "stdout",
     "output_type": "stream",
     "text": [
      "200\n"
     ]
    }
   ],
   "source": [
    "# python 传入不可变对象\n",
    "\n",
    "def num(a):\n",
    "    a = 100\n",
    "\n",
    "b = 200\n",
    "num(b)\n",
    "print(b)"
   ]
  },
  {
   "cell_type": "code",
   "execution_count": 53,
   "metadata": {},
   "outputs": [
    {
     "name": "stdout",
     "output_type": "stream",
     "text": [
      "函数内取值：  [5, 6, 7, 8, [1, 2, 3, 4]]\n",
      "函数外取值：  [5, 6, 7, 8, [1, 2, 3, 4]]\n"
     ]
    }
   ],
   "source": [
    "# Python 传入可变对象 \n",
    "# 可变对象在函数里修改了参数，那么在调用这个函数的函数里，原始的参数也被改变了\n",
    "# 传入函数的和在末尾添加新内容的对象用的是同一个引用。\n",
    "\n",
    "def test_change(list1):\n",
    "    list1.append([1, 2, 3, 4])\n",
    "    print(\"函数内取值： \", list1)\n",
    "    return\n",
    "\n",
    "list1 = [5, 6, 7, 8]\n",
    "test_change(list1)\n",
    "print(\"函数外取值： \", list1)"
   ]
  },
  {
   "cell_type": "markdown",
   "metadata": {},
   "source": [
    "### 1.4 参数\n",
    "以下是调用函数时可使用的正式参数类型：\n",
    " - 必需参数\n",
    " - 关键字参数\n",
    " - 默认参数\n",
    " - 不定长参数\n",
    " \n",
    " #### 1.4.1 必需参数\n",
    "必需参数须以正确的顺序传入函数。调用时的数量必须和声明时的一样。\n",
    "\n",
    "调用printme()函数，你必须传入一个参数，不然会出现语法错误："
   ]
  },
  {
   "cell_type": "code",
   "execution_count": 43,
   "metadata": {},
   "outputs": [
    {
     "ename": "TypeError",
     "evalue": "printme() missing 1 required positional argument: 'str'",
     "output_type": "error",
     "traceback": [
      "\u001b[1;31m---------------------------------------------------------------------------\u001b[0m",
      "\u001b[1;31mTypeError\u001b[0m                                 Traceback (most recent call last)",
      "\u001b[1;32m<ipython-input-43-a80c98a8a705>\u001b[0m in \u001b[0;36m<module>\u001b[1;34m\u001b[0m\n\u001b[0;32m      6\u001b[0m \u001b[1;33m\u001b[0m\u001b[0m\n\u001b[0;32m      7\u001b[0m \u001b[1;31m#调用printme函数\u001b[0m\u001b[1;33m\u001b[0m\u001b[1;33m\u001b[0m\u001b[1;33m\u001b[0m\u001b[0m\n\u001b[1;32m----> 8\u001b[1;33m \u001b[0mprintme\u001b[0m\u001b[1;33m(\u001b[0m\u001b[1;33m)\u001b[0m\u001b[1;33m\u001b[0m\u001b[1;33m\u001b[0m\u001b[0m\n\u001b[0m",
      "\u001b[1;31mTypeError\u001b[0m: printme() missing 1 required positional argument: 'str'"
     ]
    }
   ],
   "source": [
    "#可写函数说明\n",
    "def printme( str ):\n",
    "   \"打印任何传入的字符串\"\n",
    "   print (str)\n",
    "   return\n",
    " \n",
    "#调用printme函数\n",
    "printme()"
   ]
  },
  {
   "cell_type": "markdown",
   "metadata": {},
   "source": [
    "#### 1.4.2 关键字参数\n",
    "关键字参数和函数调用关系紧密，函数调用使用关键字参数来确定传入的参数值。\n",
    "\n",
    "使用关键字参数允许函数调用时参数的顺序与声明时不一致，因为 Python 解释器能够用参数名匹配参数值。"
   ]
  },
  {
   "cell_type": "code",
   "execution_count": 52,
   "metadata": {},
   "outputs": [
    {
     "name": "stdout",
     "output_type": "stream",
     "text": [
      "姓名： 辣辣\n",
      "年龄： 24\n",
      "性别:  girl\n"
     ]
    }
   ],
   "source": [
    "#可写函数说明\n",
    "def printme( name, age, sex  ):\n",
    "   \"打印任何传入的字符串\"\n",
    "   print(\"姓名：\", name)\n",
    "   print(\"年龄：\", age)\n",
    "   print(\"性别: \", sex)\n",
    "   return\n",
    "\n",
    "#调用printme函数\n",
    "printme(sex=\"girl\", name=\"辣辣\", age=24)"
   ]
  },
  {
   "cell_type": "markdown",
   "metadata": {},
   "source": [
    "#### 1.4.3 默认参数\n",
    "调用函数时，如果没有传递参数，则会使用默认参数。以下实例中如果没有传入 age 参数，则使用默认值"
   ]
  },
  {
   "cell_type": "code",
   "execution_count": 51,
   "metadata": {},
   "outputs": [
    {
     "name": "stdout",
     "output_type": "stream",
     "text": [
      "姓名： 辣辣\n",
      "年龄： 18\n",
      "性别:  girl\n",
      "******************************\n",
      "姓名： 娜娜\n",
      "年龄： 24\n",
      "性别:  girl\n"
     ]
    }
   ],
   "source": [
    "def printme( name, age=24, sex=\"girl\"  ):\n",
    "   \"打印任何传入的字符串\"\n",
    "   print(\"姓名：\", name)\n",
    "   print(\"年龄：\", age)\n",
    "   print(\"性别: \", sex)\n",
    "   return\n",
    "\n",
    "#调用printme函数\n",
    "printme(age=18, name=\"辣辣\")\n",
    "print(\"*\" * 30)\n",
    "printme(name=\"娜娜\")"
   ]
  },
  {
   "cell_type": "markdown",
   "metadata": {},
   "source": [
    "#### 1.4.4 不定长参数\n",
    "你可能需要一个函数能处理比当初声明时更多的参数。这些参数叫做不定长参数，和上述 2 种参数不同，声明时不会命名。基本语法如下：\n",
    "```\n",
    "def functionname([formal_args,] *var_args_tuple ):\n",
    "   \"函数_文档字符串\"\n",
    "   function_suite\n",
    "   return [expression]\n",
    "```\n",
    "加了星号 * 的参数会以元组(tuple)的形式导入，存放所有未命名的变量参数。\n",
    "\n",
    "如果在函数调用时没有指定参数，它就是一个空元组。我们也可以不向函数传递未命名的变量。\n",
    "\n",
    "还有一种就是参数带两个星号 **基本语法如下：\n",
    "```\n",
    "def functionname([formal_args,] **var_args_dict ):\n",
    "   \"函数_文档字符串\"\n",
    "   function_suite\n",
    "   return [expression]\n",
    "```\n",
    "加了两个星号 ** 的参数会以字典的形式导入。\n",
    "\n",
    "声明函数时，参数中星号 * 可以单独出现，如果单独出现星号 * 后的参数必须用关键字传入。"
   ]
  },
  {
   "cell_type": "code",
   "execution_count": 50,
   "metadata": {},
   "outputs": [
    {
     "name": "stdout",
     "output_type": "stream",
     "text": [
      "第一次输出: \n",
      "70\n",
      "(60, 50)\n",
      "******************************\n",
      "第二次输出: \n",
      "1\n",
      "{'a': 2, 'b': 3}\n"
     ]
    }
   ],
   "source": [
    "# 第一种加了一个*的参数\n",
    "# 可写函数说明\n",
    "def printinfo( arg1, *vartuple ):\n",
    "   \"打印任何传入的参数\"\n",
    "   print (\"第一次输出: \")\n",
    "   print (arg1)\n",
    "   print (vartuple)\n",
    " \n",
    "# 调用printinfo 函数\n",
    "printinfo( 70, 60, 50 )\n",
    "print(\"*\" * 30)\n",
    "\n",
    "# 第二种加了两个*的参数\n",
    "# 可写函数说明\n",
    "def printinfo( arg1, **vardict ):\n",
    "   \"打印任何传入的参数\"\n",
    "   print (\"第二次输出: \")\n",
    "   print (arg1)\n",
    "   print (vardict)\n",
    " \n",
    "# 调用printinfo 函数\n",
    "printinfo(1, a=2,b=3)"
   ]
  },
  {
   "cell_type": "markdown",
   "metadata": {},
   "source": [
    "### 1.5 匿名函数\n",
    "python 使用 lambda 来创建匿名函数。\n",
    "\n",
    "所谓匿名，意即不再使用 def 语句这样标准的形式定义一个函数。\n",
    " - lambda 只是一个表达式，函数体比 def 简单很多。\n",
    " - lambda的主体是一个表达式，而不是一个代码块。仅仅能在lambda表达式中封装有限的逻辑进去。\n",
    " - lambda 函数拥有自己的命名空间，且不能访问自己参数列表之外或全局命名空间里的参数。\n",
    "虽然lambda函数看起来只能写一行，却不等同于C或C++的内联函数，后者的目的是调用小函数时不占用栈内存从而增加运行效率。\n",
    "\n",
    "#### 1.5.1 语法\n",
    "lambda 函数的语法只包含一个语句，如下：\n",
    "```\n",
    "lambda [arg1 [,arg2,.....argn]]:expression\n",
    "```"
   ]
  },
  {
   "cell_type": "code",
   "execution_count": 49,
   "metadata": {},
   "outputs": [
    {
     "name": "stdout",
     "output_type": "stream",
     "text": [
      "相加后的值为 :  30\n",
      "相加后的值为 :  40\n"
     ]
    }
   ],
   "source": [
    "#!/usr/bin/python3\n",
    " \n",
    "# 可写函数说明\n",
    "sum = lambda arg1, arg2: arg1 + arg2\n",
    " \n",
    "# 调用sum函数\n",
    "print (\"相加后的值为 : \", sum( 10, 20 ))\n",
    "print (\"相加后的值为 : \", sum( 20, 20 ))"
   ]
  },
  {
   "cell_type": "markdown",
   "metadata": {},
   "source": [
    "### 1.6 return语句\n",
    "return [表达式] 语句用于退出函数，选择性地向调用方返回一个表达式。不带参数值的return语句返回None。"
   ]
  },
  {
   "cell_type": "code",
   "execution_count": 48,
   "metadata": {},
   "outputs": [
    {
     "name": "stdout",
     "output_type": "stream",
     "text": [
      "函数内 :  30\n",
      "函数外 :  30\n"
     ]
    }
   ],
   "source": [
    "# 可写函数说明\n",
    "def sum( arg1, arg2 ):\n",
    "   # 返回2个参数的和.\"\n",
    "   total = arg1 + arg2\n",
    "   print (\"函数内 : \", total)\n",
    "   return total\n",
    " \n",
    "# 调用sum函数\n",
    "total = sum( 10, 20 )\n",
    "print (\"函数外 : \", total)"
   ]
  },
  {
   "cell_type": "markdown",
   "metadata": {},
   "source": [
    "### 1.7 变量作用域\n",
    "Python 中，程序的变量并不是在哪个位置都可以访问的，访问权限决定于这个变量是在哪里赋值的。\n",
    "\n",
    "变量的作用域决定了在哪一部分程序可以访问哪个特定的变量名称。Python的作用域一共有4种，分别是：\n",
    " - L （Local） 局部作用域\n",
    " - E （Enclosing） 闭包函数外的函数中\n",
    " - G （Global） 全局作用域\n",
    " - B （Built-in） 内建作用域\n",
    "以 L –> E –> G –>B 的规则查找，即：在局部找不到，便会去局部外的局部找（例如闭包），再找不到就会去全局找，再者去内建中找。"
   ]
  },
  {
   "cell_type": "code",
   "execution_count": 47,
   "metadata": {},
   "outputs": [],
   "source": [
    "x = int(2.9)  # 内建作用域\n",
    " \n",
    "g_count = 0  # 全局作用域\n",
    "def outer():\n",
    "    o_count = 1  # 闭包函数外的函数中\n",
    "    def inner():\n",
    "        i_count = 2  # 局部作用域"
   ]
  },
  {
   "cell_type": "markdown",
   "metadata": {},
   "source": [
    "实例中 msg 变量定义在 if 语句块中，但外部还是可以访问的。\n",
    "\n",
    "如果将 msg 定义在函数中，则它就是局部变量，外部不能访问。\n",
    "\n",
    "#### 1.7.1 全局变量和局部变量\n",
    "定义在函数内部的变量拥有一个局部作用域，定义在函数外的拥有全局作用域。\n",
    "\n",
    "局部变量只能在其被声明的函数内部访问，而全局变量可以在整个程序范围内访问。调用函数时，所有在函数内声明的变量名称都将被加入到作用域中。"
   ]
  },
  {
   "cell_type": "code",
   "execution_count": 46,
   "metadata": {},
   "outputs": [
    {
     "name": "stdout",
     "output_type": "stream",
     "text": [
      "函数内是局部变量 :  30\n",
      "函数外是全局变量 :  0\n"
     ]
    }
   ],
   "source": [
    "total = 0 # 这是一个全局变量\n",
    "# 可写函数说明\n",
    "def sum( arg1, arg2 ):\n",
    "    #返回2个参数的和.\"\n",
    "    total = arg1 + arg2 # total在这里是局部变量.\n",
    "    print (\"函数内是局部变量 : \", total)\n",
    "    return total\n",
    " \n",
    "#调用sum函数\n",
    "sum( 10, 20 )\n",
    "print (\"函数外是全局变量 : \", total)"
   ]
  },
  {
   "cell_type": "markdown",
   "metadata": {},
   "source": [
    "#### 1.7.2 global 和 nonlocal关键字\n",
    "当内部作用域想修改外部作用域的变量时，就要用到global和nonlocal关键字了。"
   ]
  },
  {
   "cell_type": "code",
   "execution_count": 44,
   "metadata": {},
   "outputs": [
    {
     "name": "stdout",
     "output_type": "stream",
     "text": [
      "1\n",
      "123\n",
      "123\n"
     ]
    }
   ],
   "source": [
    "num = 1\n",
    "def fun1():\n",
    "    global num  # 需要使用 global 关键字声明\n",
    "    print(num) \n",
    "    num = 123\n",
    "    print(num)\n",
    "fun1()\n",
    "print(num)"
   ]
  },
  {
   "cell_type": "markdown",
   "metadata": {},
   "source": [
    "如果要修改嵌套作用域（enclosing 作用域，外层非全局作用域）中的变量则需要 nonlocal 关键字了"
   ]
  },
  {
   "cell_type": "code",
   "execution_count": 45,
   "metadata": {},
   "outputs": [
    {
     "name": "stdout",
     "output_type": "stream",
     "text": [
      "100\n",
      "100\n"
     ]
    }
   ],
   "source": [
    "def outer():\n",
    "    num = 10\n",
    "    def inner():\n",
    "        nonlocal num   # nonlocal关键字声明\n",
    "        num = 100\n",
    "        print(num)\n",
    "    inner()\n",
    "    print(num)\n",
    "outer()"
   ]
  },
  {
   "cell_type": "markdown",
   "metadata": {},
   "source": [
    "## 2. 作业构想\n",
    "1. 实现random.sample方法\n",
    "2. 实现Max方法\n",
    "3. 实现判断两个字符串是否相等的方法"
   ]
  },
  {
   "cell_type": "code",
   "execution_count": 60,
   "metadata": {},
   "outputs": [
    {
     "name": "stdout",
     "output_type": "stream",
     "text": [
      "['y', 'e']\n",
      "['meet', 'nice']\n",
      "['meet', 'you']\n"
     ]
    }
   ],
   "source": [
    "# 作业1\n",
    "import random\n",
    "string = 'nice to meet you'\n",
    "tup = ('nice', 'to', 'meet', 'you')\n",
    "lst = ['nice', 'to', 'meet', 'you']\n",
    "dic = {'a': 1, 'b': 2, 'c': 3}\n",
    "print(random.sample(string, 2))\n",
    "print(random.sample(tup, 2))\n",
    "print(random.sample(lst, 2))"
   ]
  },
  {
   "cell_type": "code",
   "execution_count": 63,
   "metadata": {},
   "outputs": [
    {
     "name": "stdout",
     "output_type": "stream",
     "text": [
      "max_prices:  (123, 'B')\n",
      "min_prices:  (123, 'A')\n"
     ]
    }
   ],
   "source": [
    "# 作业2\n",
    "prices = {\n",
    "    'A': 123,\n",
    "    'B': 123,\n",
    "}\n",
    " \n",
    "max_prices = max(zip(prices.values(), prices.keys()))\n",
    "print(\"max_prices: \", max_prices)\n",
    " \n",
    "min_prices = min(zip(prices.values(), prices.keys()))\n",
    "print(\"min_prices: \", min_prices)"
   ]
  },
  {
   "cell_type": "code",
   "execution_count": 1,
   "metadata": {},
   "outputs": [
    {
     "name": "stdout",
     "output_type": "stream",
     "text": [
      "请输入一个英文单词：123456\n",
      "too small!\n",
      "请输入一个英文单词：test\n",
      "too big!\n",
      "请输入一个英文单词：acc\n",
      "too small!\n",
      "请输入一个英文单词：hello\n",
      "Bingo!\n"
     ]
    }
   ],
   "source": [
    "# 作业3\n",
    "\n",
    "import random \n",
    "\n",
    "guess = \"hello\"\n",
    "\n",
    "while True:\n",
    "    _str = input(\"请输入一个英文单词：\")\n",
    "    if guess == _str:\n",
    "        print(\"Bingo!\")\n",
    "        break\n",
    "    elif guess > _str:\n",
    "        print(\"too small!\")\n",
    "    else:\n",
    "        print(\"too big!\")\n",
    "        continue"
   ]
  }
 ],
 "metadata": {
  "kernelspec": {
   "display_name": "Python 3",
   "language": "python",
   "name": "python3"
  },
  "language_info": {
   "codemirror_mode": {
    "name": "ipython",
    "version": 3
   },
   "file_extension": ".py",
   "mimetype": "text/x-python",
   "name": "python",
   "nbconvert_exporter": "python",
   "pygments_lexer": "ipython3",
   "version": "3.7.1"
  }
 },
 "nbformat": 4,
 "nbformat_minor": 2
}
